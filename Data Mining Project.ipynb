{
 "cells": [
  {
   "cell_type": "markdown",
   "metadata": {},
   "source": [
    "**This template is provided as a guide to your Jupyter notebook report. You should edit all sections as you see fit. Don't forget to replace the title too!**"
   ]
  },
  {
   "cell_type": "markdown",
   "metadata": {},
   "source": [
    "# ProjectNamn.....!!!!"
   ]
  },
  {
   "cell_type": "markdown",
   "metadata": {},
   "source": [
    "## Background\n",
    "\n",
    "*Describe the organization and its operations, operational environment, analytical needs, etc.*\n",
    "\n",
    "*WHY Games is an organisation aspiring to conquer the game-market for the up and coming generation of future gamers. In the past, WHY Games has experienced success with several of their projects. They’ve explored different genres, ranging from action packed first-person shooter games to puzzlers and party games. However, WHY Games' former glory days are long gone and their chief executive officer recently announced that the former industry-behemoth is betting everything on their next game release. <br><br> WHY Games’ philosophy stands upon the pillars of creative license (freedom) for the team developing the games. However, as their once upon a time highly valued recipe for success doesn’t yield the result it once used to produce, they are in dire need of help to change their development strategy. <br><br> Although WHY Games’ myopia in an ever-shifting gaming industry market could be the deciding factor for their failing business model, the features distinguishing an unsuccessful game to a successful game is not always straightforward. In 2017 the global revenue in the video game industry was estimated to be $116 billion US dollars, and grew 10.7% from 2016 to 2017 (Huang et al., 2019). The industry shows no signs of regression, and we can safely assume that it will continue to grow during the years to come. <br><br> WHY Games’ has acknowledged the shortcomings in their development strategy. Their philosophy gave developers creative license which could result in few monetization options to generate profits. “In a study by Zendle et al. (2020) video game monetisation has grown during the previous decade, shifting the way that companies earn real-world currency by selling in-game cosmetics, loot boxes and micro-transactions. The authors argue that selling an actual copy of the game is no longer the only option to earn revenue. (To be continued).(← kolla så att detta är “våra egna ord”). <br><br> As mentioned earlier WHY Games’ future depends on the success of their next game. And in regards to the aforementioned reason, they have hired us, Know your data (from now on referred to as KYD) a data analytics consulting firm specified in understanding large quantities of data, discovering patterns, and making consumer predictions based on the data. <br><br> WHY Games vaguely described our assignment as to understand why certain games become popular and discover which features and attributes that are highly valued by the gaming community. As social-media has exploded during the second half of the decade, everything now circuits around trends. It’s been a long time since GTA3 was released, and games today have to be edgy, funny, interesting, and high-performing in the social-media sphere. Luckily, this is not an isolated issue restricted to the gaming industry. A similar issue (vi borde ha källa här) has risen in the music industry. The vast majority of music-consumers no longer purchase physical album copies, and instead stream their favourite songs online on platforms such as Spotify. The paradigm shift in music consumption has led to all music on the platform being available to every user all the time. Therefore, the contributing factors to becoming a successful musician are very different from merely ten years ago. WHY Games’ is expecting a similar trend in the gaming market, and recognizes the need for change. <br><br> In WHY Games pursuit of success, we have to strengthen our understanding of the gaming market. Before they can establish the foundations for a game that will turn their negative trend in the opposite direction, we have to understand what features will bring us success. Which categories are popular today, what financial model is likely to increase our success rate and what games are becoming popular and which are their characteristics? To ease the process of understanding the market, WHY Games’ decided that they will release their game on the computer game distribution platform STEAM. (sätt in referens/beskrivning av steam här kanske?). To find answers to the aforementioned questions, we will analyze the data offered by SteamSpy API which is… → Vill vi berätta om SteamSpy här? Annars e vi typ “klara” med inledning.*"
   ]
  },
  {
   "cell_type": "markdown",
   "metadata": {},
   "source": [
    "## Problem description\n",
    "\n",
    "*Describe the problem that the organization is facing and the research question it needs answered.*\n",
    "\n",
    "*MER TEXT...<br><br> By collecting data from Steam API and analyzing it, WHY games aim to get a better understanding regarding what is highly valued by the target group. <br><br>The project aims to answer the following questions:<br> 1. Which are the key factors to a successful game according to the data, what factors have the highest correlation and causality with the rating and sales of a successful game? <br>2. What is the correlation and causality of different factors?*"
   ]
  },
   {
   "cell_type": "markdown",
   "metadata": {},
   "source": [
    "## DST vs CRISP-DM\n",
    "\n",
    "*Describe DST vs CRISP-DM.*\n",
    "\n",
       "*LÄGG IN FIGUR... <br> <br>  CRISP-DM (CRoss-industry Standard Process for Data Mining) is an analytic “methodology” used to categorize and structure each step-in data mining projects. CRISP-DM was released 1996 and although the internet has transformed since then and is now integrated in every aspect of our lives, CRISP-DM has maintained is position as the industry standard model for data mining. However, due to the fact that the way data is collected has revolutionized throughout the 21st century the CRISP-DM model lacks behind in recent technological progress. The DST model intends to account for the fallacies in the CRISP-DM model. (källa?) Martínez-Plumed et al (2019) has identified some differences with data mining twenty years ago compared to today and based on this, the authors highlight some weaknesses with CRISP-DM and propose an extension on the methodology that aims to complement and reduce the identified weaknesses. The extended model presented is called DST and stands for Data Science Trajectories. One of the big differences identified by the authors is that CRISP-DM sees data as an important part of achieving its goal but believes that the process is in the greatest focus, while DST has more of a data-oriented approach where the data itself is the main focus. Based on this, we have chosen to use DST for our project as we believe that this model will contribute more to our purpose. (Martínez-Plumed et al. 2019). <br><br> Our first step, when using our DST illustrated in figure 1, is to explore our chosen data source(API). The second step is to choose the data which will give our project relevant data to use. We will then formulate a goal with our chosen data as a base, i.e. what we want to use the data for. Then we fetch and prepare the data from our source. After that, we will create our model systems as planned, present our findings and failures/successes. As the last step, we will present possible products/services our models can be used for. *"
   ]
  },
    {
   "cell_type": "markdown",
   "metadata": {},
   "source": [
    "## Data Source\n",
    "\n",
    "*Describe Data Source*\n",
    "\n",
         "*Steam, which is “the ultimate online game platform”(https://store.steampowered.com), is a very good source of gaming trends and what games are popular right now, mainly for the PC market. Steam also provides their own API for smooth and easy access to their public data. Steams API will provide us with the relevant data by using DST, seen above in figure 1, we will increase our chances of producing a relevant data-set and thus produce a successful game. A shortcoming with Steams API is that every request has to have very specific information about for example from which game we want data from, this makes it a hassle to compile trends directly from their API. A solution to this problem is provided by SteamSpy. SteamSpy(https://steamspy.com) is a service that provides collected game data statistics from the Web Steam API. SteamSpy structures the data in a way that allows us to gather information on all games, instead of a particular one. However, there are downsides to using SteamSpy. Continue (SteamSpy’s shortcomings) to  Since we collect, clean and present our findings via Jupyter, we will use the PyPi library SteamspyPyPi (https://pypi.org/project/steamspypi/). SteamspyPy has 44 “pages” of data as Alternatively, if you know the exact number of pages, e.g. 44 as of March 29, 2021. <br> <br> SKRIV MER OM: <br>Certain domain knowledge → e.g. CS initial price is 0 in our data, we know that this is not the case. Det har gått från att man köper det till free to play. Även skriva in svagheter med vår analys och data Ex. vi har identiferat populäritet på ett sätt. Populäritet är subjektivt och således kan någon annan ha en annan åsikt på vad populäritet är. *"
   ]
  },
  {
   "cell_type": "markdown",
   "metadata": {},
   "source": [
    "## Previous studies and related research \n",
    "\n",
    "*Describe related research and similar studies. How will findings from these studies be used in this project?*\n",
    "\n",
    "*In a study by Zendle et al. (2020) video game monetisation has grown during the previous decade, shifting the way that companies earn real-world currency by selling in-game cosmetics, loot boxes and micro-transactions. The authors argue that selling an actual copy of the game is no longer the only option to earn revenue. (To be continued).<br> <br> According to Bailey, E. N., & Miyata, K. (2018) multiplayer games tend to increase sales. A detailed study was conducted where 19,621 games were obtained from Steam using its public API. The games were then analyzed based on whether the game was labeled as “multiplayer” or ”single-player” as well as Metacritic score and rating on steam. The study found a correlation between games with the “multiplayer” tag and a higher number of sales. The study also found that games with multiplayer functionality had a higher median rating according to metacritic, but a lower median user rating on Steam. Finally, the authors conclude the study with the observation that developing games with multiplayer functionality seems to have a positive effect on the number of sales. However, the authors advise against developing multiplayer features unless there is confidence that the multiplayer mode will be capable of maintaining a strong audience, as it might just be an unnecessary cost and risk during development. <br><br> The study described above will be of interest during this project as we intend to investigate what factors are key in developing a successful game in terms of number of sales as well as ratings. One factor that will be analysed is whether the genres of a game have an effect on that game's sales and ratings. As such, we will be able to compare results from our report and the study made by Bailey, E. N., & Miyata, K. (2018) and determine whether or not multiplayer functionality is a key factor to developing a successful game. *"
   ]
  },
    {
   "cell_type": "markdown",
   "metadata": {},
   "source": [
    "##  Choice and motivation for selected data mining method(s), and preliminary data analysis \n",
    "\n",
    "*Describe...*\n",
    "\n",
     "*Replace the contents of this cell with your own text.*"
   ]
  },

  {
   "cell_type": "markdown",
   "metadata": {},
   "source": [
    "## Data Dictionary\n",
    "\n",
    "*Insert Data Dictionary...*\n",
    "\n",
    "*Replace the contents of this cell with your own text.*"
   ]
  },
  {
   "cell_type": "markdown",
   "metadata": {},
   "source": [
    "## Data collection\n",
    "\n",
    "*Document your data collection process and the properties of the data here. Implement, using Python code, to load and preprocess your selected dataset.*\n",
    "\n",
    "*Replace the contents of this cell with your own text.*"
   ]
  },
  {
   "cell_type": "code",
   "execution_count": 2,
   "metadata": {},
   "outputs": [],
   "source": [
    "# Add your own code"
   ]
  },
  {
   "cell_type": "markdown",
   "metadata": {},
   "source": [
    "## Data analysis\n",
    "\n",
    "*Document you choice and motivation for selected data mining method(s) here. Choose a data mining method(s) to use in Python code to perform an analysis of your chosen dataset. Describe why you chose the method(s) and what interesting things you have found from the analysis.*\n",
    "\n",
    "*Replace the contents of this cell with your own text.*"
   ]
  },
  {
   "cell_type": "code",
   "execution_count": 3,
   "metadata": {},
   "outputs": [],
   "source": [
    "# Add your own code"
   ]
  },
  {
   "cell_type": "markdown",
   "metadata": {},
   "source": [
    "## Evaluation of results\n",
    "\n",
    "*Document an evaluation your analysis results and describe how potentially actionable they are.*\n",
    "\n",
    "*Replace the contents of this cell with your own text.*"
   ]
  },
  {
   "cell_type": "code",
   "execution_count": null,
   "metadata": {},
   "outputs": [],
   "source": [
    "# Add your own code"
   ]
  },
  {
   "cell_type": "markdown",
   "metadata": {},
   "source": [
    "## Schedule and description of project plan\n",
    "\n",
    "*Rough schedule for the project beyond the pilot study presented in 3-5. This does not have to be advanced, you can simply provide an estimate based upon reported schedules for similar projects in the literature.*\n",
    "\n",
    "*Replace the contents of this cell with your own text.*"
   ]
  },
  {
   "cell_type": "markdown",
   "metadata": {},
   "source": [
    "## Ethical aspects that need to be considered\n",
    "\n",
    "*Are there ethical aspects that need to be considered? Are there legal implications (e.g., personal data / GDPR)? Are there implications if the case organization is a business, public authority, or nonprofit entity?*\n",
    "\n",
    "*It is important to consider the ethical implications when conducting any kind of data mining project. Fortunately, in regards to the EU:s regulation of data protection with GDPR, our project and findings does not rely on any personal data and none of the data presented in our report could be used to identify specific individuals. However, there are still some ethical aspects to be considered. Although the data collected with SteamSpy relies on Steam users setting their profile to public instead of private, some users might not consent to their data contributing to Steam Spy or projects such as this one. But considering the fact that a Steam user can at any time decide to set their profile to private this is not a major issue. <br><br> A more important ethical aspect to consider is not so much the findings of our project, but rather what these findings could potentially lead to in the future if more data is analysed. If in continuation of this project there is more research done on whether video games containing micro-transactions and loot boxes is a factor for success, game developers might be more inclined to utilizing these features in future games. There is empirical evidence that video game loot boxes are clearly connected to problems with gambling. There is reason to suggest that authorities and governments classify loot boxes as a form of gambling and as such regulate it accordingly. The video game industry is still growing and the revenue generated by microtransactions and consumers purchasing loot boxes is increasing year by year. (Zendle, Cairns, 2018) If data findings conclude that integrating loot boxes in video games truly is a success factor, it will become even more prevalent than it is today. As such, a rise in gambling addiction among gamers should not come as a surprise. *"
   ]
  },
  
  {
   "cell_type": "code",
   "execution_count": null,
   "metadata": {},
   "outputs": [],
   "source": []
  }
 ],
 "metadata": {
  "kernelspec": {
   "display_name": "Python 3 (ipykernel)",
   "language": "python",
   "name": "python3"
  },
  
  "language_info": {
   "codemirror_mode": {
    "name": "ipython",
    "version": 3
   },
   "file_extension": ".py",
   "mimetype": "text/x-python",
   "name": "python",
   "nbconvert_exporter": "python",
   "pygments_lexer": "ipython3",
   "version": "3.8.12"
  }
 },
 
 "nbformat": 4,
 "nbformat_minor": 2
}
